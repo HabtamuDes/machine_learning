{
 "cells": [
  {
   "cell_type": "code",
   "execution_count": null,
   "metadata": {},
   "outputs": [],
   "source": [
    "# Use words.txt as the file name\n",
    "fname = input(\"Enter file name: \")\n",
    "try:\n",
    "\tx = open(\"fname\", \"r\")\n",
    "    \n",
    "except:\n",
    "    print('file cannot be opened:', fname)\n",
    "    quit()\n",
    "for x in fname:\n",
    "    x=x.rstrip()\n",
    "    x=x.upper()\n",
    "    print(x.read(x))\n",
    "        \n"
   ]
  },
  {
   "cell_type": "code",
   "execution_count": null,
   "metadata": {},
   "outputs": [],
   "source": [
    "for x in fname:\n",
    "        x=x.rstrip()\n",
    "        x=x.upper()\n",
    "        print(x)"
   ]
  },
  {
   "cell_type": "code",
   "execution_count": null,
   "metadata": {},
   "outputs": [],
   "source": [
    "f = open(\"words.txt\", \"r\")\n",
    "for x in fname:\n",
    "        x=x.rstrip()\n",
    "        x=x.upper()\n",
    "        print(x.read())\n",
    "\n"
   ]
  },
  {
   "cell_type": "code",
   "execution_count": null,
   "metadata": {},
   "outputs": [],
   "source": [
    "fname = input(\"Enter file name:\")\n",
    "try:\n",
    "\tfh = open('fname', 'r')\n",
    "except:\n",
    "    print('file cannot be opened:', fname)\n",
    "    quit()\n",
    "for x in fh:\n",
    "    x=x.rstrip()\n",
    "    x=x.upper()\n",
    "    print(fname)\n",
    "        "
   ]
  },
  {
   "cell_type": "code",
   "execution_count": null,
   "metadata": {},
   "outputs": [],
   "source": [
    "fname = input(\"Enter file name:\")\n",
    "try:\n",
    "\tfh = open('fname', 'r')\n",
    "except:\n",
    "    print('file cannot be opened:', fname)\n",
    "    quit()\n",
    "for x in fh:\n",
    "    x=x.rstrip()\n",
    "    x=x.upper()\n",
    "    print(x)\n",
    "        "
   ]
  },
  {
   "cell_type": "code",
   "execution_count": null,
   "metadata": {},
   "outputs": [],
   "source": []
  }
 ],
 "metadata": {
  "kernelspec": {
   "display_name": "Python 3",
   "language": "python",
   "name": "python3"
  },
  "language_info": {
   "codemirror_mode": {
    "name": "ipython",
    "version": 3
   },
   "file_extension": ".py",
   "mimetype": "text/x-python",
   "name": "python",
   "nbconvert_exporter": "python",
   "pygments_lexer": "ipython3",
   "version": "3.7.1"
  }
 },
 "nbformat": 4,
 "nbformat_minor": 2
}
