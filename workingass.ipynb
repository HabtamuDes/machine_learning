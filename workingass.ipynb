{
 "cells": [
  {
   "cell_type": "code",
   "execution_count": null,
   "metadata": {},
   "outputs": [],
   "source": [
    "import cv2\n",
    "import numpy as np\n",
    "\n",
    "\n",
    "img = cv2.imread('face_1.jpg')\n",
    "\n",
    "# get image height, width\n",
    "(h, w) = img.shape[:2]\n",
    "# calculate the center of the image\n",
    "center = (w / 2, h / 2)\n",
    "\n",
    "angle90 = 90\n",
    "\n",
    "scale = 1.0\n",
    "\n",
    "# Perform the counter clockwise rotation holding at the center\n",
    "# 90 degrees\n",
    "\n",
    "M = cv2.getRotationMatrix2D(center, angle90, scale)\n",
    "\n",
    "rotated90 = cv2.warpAffine(img, M, (h, w))\n",
    "\n",
    "cv2.imshow('rotated_image',rotated90)\n",
    "cv2.waitKey(0)\n",
    "\n",
    "cv2.destroyAllWindows()\n",
    "\n",
    "\n"
   ]
  },
  {
   "cell_type": "code",
   "execution_count": null,
   "metadata": {},
   "outputs": [],
   "source": []
  },
  {
   "cell_type": "code",
   "execution_count": null,
   "metadata": {},
   "outputs": [],
   "source": [
    "import cv2\n",
    "import numpy as np\n",
    "\n",
    "\n",
    "img = cv2.imread('face_1.jpg')\n",
    "\n",
    "x = 0\n",
    "y = 0\n",
    "\n",
    "width = 100\n",
    "height = 100\n",
    "\n",
    "cropped_img = img[y:y+height, x:x+width]\n",
    "\n",
    "cv2.imshow(\"cropped_images\", cropped_img)\n",
    "cv2.waitKey(0)\n",
    "cv2.destroyAllWindows()"
   ]
  },
  {
   "cell_type": "code",
   "execution_count": null,
   "metadata": {},
   "outputs": [],
   "source": []
  }
 ],
 "metadata": {
  "kernelspec": {
   "display_name": "Python 3",
   "language": "python",
   "name": "python3"
  },
  "language_info": {
   "codemirror_mode": {
    "name": "ipython",
    "version": 3
   },
   "file_extension": ".py",
   "mimetype": "text/x-python",
   "name": "python",
   "nbconvert_exporter": "python",
   "pygments_lexer": "ipython3",
   "version": "3.7.3"
  }
 },
 "nbformat": 4,
 "nbformat_minor": 2
}
