{
 "cells": [
  {
   "cell_type": "code",
   "execution_count": null,
   "metadata": {},
   "outputs": [],
   "source": [
    "# Use words.txt as the file name\n",
    "fname = input(\"Enter file name: \")\n",
    "try:\n",
    "\tfh = open(fname, r)\n",
    "    for x in fname:\n",
    "        x=x.rstrip()\n",
    "        x=x.upper()\n",
    "        print(x)\n",
    "except:\n",
    "    print('file cannot be opened:', fname)\n",
    "    quit()\n",
    "\n"
   ]
  },
  {
   "cell_type": "code",
   "execution_count": null,
   "metadata": {},
   "outputs": [],
   "source": [
    "fr=input(\"Enter file name: \")\n",
    "try:\n",
    "    f = open(\"fr\", \"r\")\n",
    "except:\n",
    "    print(\"file cannot open\", fr)\n",
    "for x in f:\n",
    "    x=x.rstrip()\n",
    "    x=x.upper()\n",
    "    print(x)\n"
   ]
  },
  {
   "cell_type": "code",
   "execution_count": null,
   "metadata": {},
   "outputs": [],
   "source": [
    "fname = input(\"Enter file name: \")\n",
    "try:\n",
    "\tfh = open(\"fname\", \"r\")\n",
    "    \n",
    "except:\n",
    "    print('file cannot be opened:', fname)\n",
    "    quit()\n",
    "for x in fh:\n",
    "    x=x.rstrip()\n",
    "    x=x.upper()\n",
    "    print(x)\n",
    "        "
   ]
  },
  {
   "cell_type": "code",
   "execution_count": 34,
   "metadata": {},
   "outputs": [
    {
     "name": "stdin",
     "output_type": "stream",
     "text": [
      "Enter file name:  mbox-short.txt\n"
     ]
    },
    {
     "name": "stdout",
     "output_type": "stream",
     "text": [
      "You can modify how you receive notifications at My Workspace > Preferences.\n",
      " 0\n",
      "Done\n"
     ]
    }
   ],
   "source": [
    "# Use the file name mbox-short.txt as the file name\n",
    "fname = input(\"Enter file name: \")\n",
    "fh = open(fname)\n",
    "\n",
    "for line in fh:\n",
    "    if not line.startswith(\"X-DSPAM-Confidence:\") : \n",
    "        continue\n",
    "print(line, count)\n",
    "print(\"Done\")\n"
   ]
  },
  {
   "cell_type": "code",
   "execution_count": null,
   "metadata": {},
   "outputs": [],
   "source": [
    "# Use the file name mbox-short.txt as the file name\n",
    "fname = input(\"Enter file name: \")\n",
    "fh = open(fname)\n",
    "\n",
    "for line in fh:\n",
    "    if not line.startswith(\"X-DSPAM-Confidence:\") : \n",
    "        continue\n",
    "        line=float(line)\n",
    "        avg = line / 27\n",
    "    print(line)\n",
    "print(\"Done\")\n"
   ]
  },
  {
   "cell_type": "code",
   "execution_count": 52,
   "metadata": {},
   "outputs": [
    {
     "name": "stdin",
     "output_type": "stream",
     "text": [
      "Enter file name:  mbox-short.txt\n"
     ]
    },
    {
     "name": "stdout",
     "output_type": "stream",
     "text": [
      "0.8475\n",
      "0.6178\n",
      "0.6961\n",
      "0.7565\n",
      "0.7626\n",
      "0.7556\n",
      "0.7002\n",
      "0.7615\n",
      "0.7601\n",
      "0.7605\n",
      "0.6959\n",
      "0.7606\n",
      "0.7559\n",
      "0.7605\n",
      "0.6932\n",
      "0.7558\n",
      "0.6526\n",
      "0.6948\n",
      "0.6528\n",
      "0.7002\n",
      "0.7554\n",
      "0.6956\n",
      "0.6959\n",
      "0.7556\n",
      "0.9846\n",
      "0.8509\n",
      "0.9907\n",
      "Average spam confidence: 0.7507185185185187\n"
     ]
    }
   ],
   "source": [
    "fname = input(\"Enter file name: \")\n",
    "fh = open(fname)\n",
    "count = 0\n",
    "tn= 0\n",
    "avg= 0\n",
    "for line in fh:\n",
    "    if not line.startswith(\"X-DSPAM-Confidence:\") : continue\n",
    "    count = count + 1\n",
    "    avg1 = float(line[21:])\n",
    "    tn = avg1 + tn\n",
    "    print(avg1)\n",
    "avg = tn / count\n",
    "print(\"Average spam confidence:\", avg)"
   ]
  },
  {
   "cell_type": "code",
   "execution_count": null,
   "metadata": {},
   "outputs": [],
   "source": []
  }
 ],
 "metadata": {
  "kernelspec": {
   "display_name": "Python 3",
   "language": "python",
   "name": "python3"
  },
  "language_info": {
   "codemirror_mode": {
    "name": "ipython",
    "version": 3
   },
   "file_extension": ".py",
   "mimetype": "text/x-python",
   "name": "python",
   "nbconvert_exporter": "python",
   "pygments_lexer": "ipython3",
   "version": "3.7.1"
  }
 },
 "nbformat": 4,
 "nbformat_minor": 2
}
