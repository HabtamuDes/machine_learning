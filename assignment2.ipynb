{
 "cells": [
  {
   "cell_type": "code",
   "execution_count": null,
   "metadata": {},
   "outputs": [],
   "source": [
    "import cv2\n",
    "import numpy as np"
   ]
  },
  {
   "cell_type": "code",
   "execution_count": null,
   "metadata": {},
   "outputs": [],
   "source": [
    "img = cv2.imread('face_1.jpg')\n",
    "\n",
    "(h, w) = img.shape[:2]#geting image hight and width\n",
    "\n",
    "center = (w / 2, h / 2)#calculating the center\n",
    "\n",
    "angle90 = 90\n",
    "angle180 = 180\n",
    "angle270 = 270\n",
    " \n",
    "scale = 1.0\n",
    "\n",
    "# 90 degrees\n",
    "M = cv2.getRotationMatrix2D(center, angle90, scale)\n",
    "rotated90 = cv2.warpAffine(img, M, (h, w))\n",
    " \n",
    "# 180 degrees\n",
    "M = cv2.getRotationMatrix2D(center, angle180, scale)\n",
    "rotated180 = cv2.warpAffine(img, M, (w, h))\n",
    " \n",
    "# 270 degrees\n",
    "M = cv2.getRotationMatrix2D(center, angle270, scale)\n",
    "rotated270 = cv2.warpAffine(img, M, (h, w))\n",
    " \n",
    " \n",
    "cv2.imshow('Original Image',img)\n",
    "cv2.waitKey(0) # waits until a key is pressed\n",
    "cv2.destroyAllWindows() # destroys the window showing image\n",
    " \n",
    "cv2.imshow('Image rotated by 90 degrees',rotated90)\n",
    "cv2.waitKey(0) # waits until a key is pressed\n",
    "cv2.destroyAllWindows() # destroys the window showing image\n",
    " \n",
    "cv2.imshow('Image rotated by 180 degrees',rotated180)\n",
    "cv2.waitKey(0) # waits until a key is pressed\n",
    "cv2.destroyAllWindows() # destroys the window showing image\n",
    " \n",
    "cv2.imshow('Image rotated by 270 degrees',rotated270)\n",
    "cv2.waitKey(0) # waits until a key is pressed\n",
    "cv2.destroyAllWindows() # destroys the window showing image\n",
    " \n",
    "\n",
    "    \n",
    "\n",
    "cv2.imshow(\"assignment\", img)\n",
    "cv2.waitKey(0)\n",
    "cv2.destroyAllWindows()"
   ]
  },
  {
   "cell_type": "code",
   "execution_count": null,
   "metadata": {},
   "outputs": [],
   "source": []
  },
  {
   "cell_type": "code",
   "execution_count": null,
   "metadata": {},
   "outputs": [],
   "source": []
  }
 ],
 "metadata": {
  "kernelspec": {
   "display_name": "Python 3",
   "language": "python",
   "name": "python3"
  },
  "language_info": {
   "codemirror_mode": {
    "name": "ipython",
    "version": 3
   },
   "file_extension": ".py",
   "mimetype": "text/x-python",
   "name": "python",
   "nbconvert_exporter": "python",
   "pygments_lexer": "ipython3",
   "version": "3.7.3"
  }
 },
 "nbformat": 4,
 "nbformat_minor": 2
}
