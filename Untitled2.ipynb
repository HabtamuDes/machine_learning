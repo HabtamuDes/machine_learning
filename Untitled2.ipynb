{
 "cells": [
  {
   "cell_type": "code",
   "execution_count": null,
   "metadata": {
    "collapsed": true
   },
   "outputs": [],
   "source": [
    "largest = None\n",
    "smallest = None\n",
    "while True:\n",
    "    num = input(\"Enter a number: \")\n",
    "    num=[0]\n",
    "    if num == \"done\" : \n",
    "        break\n",
    "    print(num)\n",
    "for num in []:\n",
    "    \n",
    "    if num > largest:\n",
    "        largest = num\n",
    "        try:\n",
    "            print(\"Maximum is\" , largest)\n",
    "        except:\n",
    "            print(\"Invalid input\")\n",
    "    if smallest is None:\n",
    "        smallest=num\n",
    "    elif num < smallest:\n",
    "        smallest = num\n",
    "        try:\n",
    "            print(\"Minimum is\" , smallest)\n",
    "        except:\n",
    "            print(\"Invalid input\")\n",
    "    \n",
    "\n",
    "\n"
   ]
  },
  {
   "cell_type": "code",
   "execution_count": null,
   "metadata": {
    "collapsed": true
   },
   "outputs": [],
   "source": []
  }
 ],
 "metadata": {
  "anaconda-cloud": {},
  "kernelspec": {
   "display_name": "Python [conda env:Anaconda3]",
   "language": "python",
   "name": "conda-env-Anaconda3-py"
  },
  "language_info": {
   "codemirror_mode": {
    "name": "ipython",
    "version": 3
   },
   "file_extension": ".py",
   "mimetype": "text/x-python",
   "name": "python",
   "nbconvert_exporter": "python",
   "pygments_lexer": "ipython3",
   "version": "3.5.6"
  }
 },
 "nbformat": 4,
 "nbformat_minor": 1
}
