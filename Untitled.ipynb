{
 "cells": [
  {
   "cell_type": "code",
   "execution_count": 1,
   "metadata": {
    "collapsed": false
   },
   "outputs": [
    {
     "name": "stdout",
     "output_type": "stream",
     "text": [
      "123abc\n"
     ]
    }
   ],
   "source": [
    "print(\"123\" + \"abc\")"
   ]
  },
  {
   "cell_type": "code",
   "execution_count": 6,
   "metadata": {
    "collapsed": false
   },
   "outputs": [
    {
     "name": "stdout",
     "output_type": "stream",
     "text": [
      "5.0\n"
     ]
    }
   ],
   "source": [
    "x = 1 + 2 * 3 - 8 / 4\n",
    "print(x)"
   ]
  },
  {
   "cell_type": "code",
   "execution_count": 7,
   "metadata": {
    "collapsed": false
   },
   "outputs": [
    {
     "name": "stdout",
     "output_type": "stream",
     "text": [
      "98\n"
     ]
    }
   ],
   "source": [
    "x = int(98.6)\n",
    "print(x)"
   ]
  },
  {
   "cell_type": "code",
   "execution_count": 8,
   "metadata": {
    "collapsed": false
   },
   "outputs": [
    {
     "name": "stdout",
     "output_type": "stream",
     "text": [
      "Enter your nameSara\n",
      "Hello Sara\n"
     ]
    }
   ],
   "source": [
    "# The code below almost works\n",
    "\n",
    "name = input(\"Enter your name\")\n",
    "print( \"Hello \" + name)"
   ]
  },
  {
   "cell_type": "code",
   "execution_count": 11,
   "metadata": {
    "collapsed": false
   },
   "outputs": [
    {
     "name": "stdout",
     "output_type": "stream",
     "text": [
      "Enter Hours:96.25\n",
      "pay: 96.25\n"
     ]
    }
   ],
   "source": [
    "# This first line is provided for you\n",
    "\n",
    "hrs = input(\"Enter Hours:\")\n",
    "float(hrs)\n",
    "print(\"pay: \" + hrs)"
   ]
  },
  {
   "cell_type": "code",
   "execution_count": 16,
   "metadata": {
    "collapsed": false
   },
   "outputs": [
    {
     "name": "stdout",
     "output_type": "stream",
     "text": [
      "Enter Hours:35\n"
     ]
    },
    {
     "ename": "TypeError",
     "evalue": "can't multiply sequence by non-int of type 'float'",
     "output_type": "error",
     "traceback": [
      "\u001b[0;31m---------------------------------------------------------------------------\u001b[0m",
      "\u001b[0;31mTypeError\u001b[0m                                 Traceback (most recent call last)",
      "\u001b[0;32m<ipython-input-16-8cd31042d303>\u001b[0m in \u001b[0;36m<module>\u001b[0;34m()\u001b[0m\n\u001b[1;32m      3\u001b[0m \u001b[0mhrs\u001b[0m \u001b[1;33m=\u001b[0m \u001b[0minput\u001b[0m\u001b[1;33m(\u001b[0m\u001b[1;34m\"Enter Hours:\"\u001b[0m\u001b[1;33m)\u001b[0m\u001b[1;33m\u001b[0m\u001b[0m\n\u001b[1;32m      4\u001b[0m \u001b[0mfloat\u001b[0m\u001b[1;33m(\u001b[0m\u001b[0mhrs\u001b[0m\u001b[1;33m)\u001b[0m\u001b[1;33m\u001b[0m\u001b[0m\n\u001b[0;32m----> 5\u001b[0;31m \u001b[0mpay\u001b[0m\u001b[1;33m=\u001b[0m\u001b[0mhrs\u001b[0m \u001b[1;33m*\u001b[0m \u001b[0mrate\u001b[0m\u001b[1;33m\u001b[0m\u001b[0m\n\u001b[0m\u001b[1;32m      6\u001b[0m \u001b[0mprint\u001b[0m\u001b[1;33m(\u001b[0m\u001b[1;34m\"pay: \"\u001b[0m \u001b[1;33m+\u001b[0m \u001b[0mpay\u001b[0m\u001b[1;33m)\u001b[0m\u001b[1;33m\u001b[0m\u001b[0m\n",
      "\u001b[0;31mTypeError\u001b[0m: can't multiply sequence by non-int of type 'float'"
     ]
    }
   ],
   "source": [
    "# This first line is provided for you\n",
    "rate=2.75\n",
    "hrs = input(\"Enter Hours:\")\n",
    "float(hrs)\n",
    "pay=hrs * rate\n",
    "print(\"pay: \" + pay)"
   ]
  },
  {
   "cell_type": "code",
   "execution_count": 41,
   "metadata": {
    "collapsed": false
   },
   "outputs": [
    {
     "name": "stdout",
     "output_type": "stream",
     "text": [
      "Enter Hours:35\n",
      "Enter rate per hour:2.75\n",
      "pay: 96.25\n"
     ]
    }
   ],
   "source": [
    "# This first line is provided for you\n",
    "\n",
    "hrs = input(\"Enter Hours:\")\n",
    "hrs = float(hrs)\n",
    "\n",
    "rate= input(\"Enter rate per hour:\")\n",
    "rate = float(rate)\n",
    "\n",
    "payment=hrs * rate\n",
    "payment=float(payment)\n",
    "payment=str(payment)\n",
    "\n",
    "\n",
    "print(\"pay: \" + payment)\n",
    "\n"
   ]
  },
  {
   "cell_type": "code",
   "execution_count": null,
   "metadata": {
    "collapsed": true
   },
   "outputs": [],
   "source": []
  },
  {
   "cell_type": "code",
   "execution_count": null,
   "metadata": {
    "collapsed": true
   },
   "outputs": [],
   "source": []
  },
  {
   "cell_type": "code",
   "execution_count": 44,
   "metadata": {
    "collapsed": false
   },
   "outputs": [],
   "source": [
    "x=4\n",
    "if  x == 5 :\n",
    "    print('Is 5')\n",
    "    print('Is Still 5')\n",
    "    print('Third 5')"
   ]
  },
  {
   "cell_type": "code",
   "execution_count": null,
   "metadata": {
    "collapsed": true
   },
   "outputs": [],
   "source": []
  },
  {
   "cell_type": "code",
   "execution_count": 45,
   "metadata": {
    "collapsed": false
   },
   "outputs": [
    {
     "name": "stdout",
     "output_type": "stream",
     "text": [
      "Is 6\n",
      "Is Still 6\n",
      "Third 6\n"
     ]
    }
   ],
   "source": [
    "x=6\n",
    "\n",
    "if x == 6 :\n",
    "    print('Is 6')\n",
    "    print('Is Still 6')\n",
    "    print('Third 6')"
   ]
  },
  {
   "cell_type": "code",
   "execution_count": 61,
   "metadata": {
    "collapsed": false
   },
   "outputs": [
    {
     "name": "stdout",
     "output_type": "stream",
     "text": [
      "Small\n",
      "All done\n"
     ]
    }
   ],
   "source": [
    "x =0\n",
    "if x < 2 :\n",
    "    print('Small')\n",
    "elif x < 10 :\n",
    "    print('Medium')\n",
    "else :\n",
    "    print('LARGE')\n",
    "print('All done')"
   ]
  },
  {
   "cell_type": "code",
   "execution_count": 58,
   "metadata": {
    "collapsed": false
   },
   "outputs": [
    {
     "name": "stdout",
     "output_type": "stream",
     "text": [
      "Two or more\n"
     ]
    }
   ],
   "source": [
    "x=2\n",
    "if x < 2 :\n",
    "    print('Below 2')\n",
    "elif x >= 2 :\n",
    "     print('Two or more')\n",
    "else :\n",
    "    print('Something else')"
   ]
  },
  {
   "cell_type": "code",
   "execution_count": 59,
   "metadata": {
    "collapsed": false
   },
   "outputs": [
    {
     "ename": "ValueError",
     "evalue": "invalid literal for int() with base 10: 'Hello Bob'",
     "output_type": "error",
     "traceback": [
      "\u001b[0;31m---------------------------------------------------------------------------\u001b[0m",
      "\u001b[0;31mValueError\u001b[0m                                Traceback (most recent call last)",
      "\u001b[0;32m<ipython-input-59-a89a1218ceb2>\u001b[0m in \u001b[0;36m<module>\u001b[0;34m()\u001b[0m\n\u001b[1;32m      1\u001b[0m \u001b[0mastr\u001b[0m \u001b[1;33m=\u001b[0m \u001b[1;34m'Hello Bob'\u001b[0m\u001b[1;33m\u001b[0m\u001b[0m\n\u001b[0;32m----> 2\u001b[0;31m \u001b[0mistr\u001b[0m \u001b[1;33m=\u001b[0m \u001b[0mint\u001b[0m\u001b[1;33m(\u001b[0m\u001b[0mastr\u001b[0m\u001b[1;33m)\u001b[0m\u001b[1;33m\u001b[0m\u001b[0m\n\u001b[0m\u001b[1;32m      3\u001b[0m \u001b[0mprint\u001b[0m\u001b[1;33m(\u001b[0m\u001b[1;34m'First'\u001b[0m\u001b[1;33m,\u001b[0m \u001b[0mistr\u001b[0m\u001b[1;33m)\u001b[0m\u001b[1;33m\u001b[0m\u001b[0m\n\u001b[1;32m      4\u001b[0m \u001b[0mastr\u001b[0m \u001b[1;33m=\u001b[0m \u001b[1;34m'123'\u001b[0m\u001b[1;33m\u001b[0m\u001b[0m\n\u001b[1;32m      5\u001b[0m \u001b[0mistr\u001b[0m \u001b[1;33m=\u001b[0m \u001b[0mint\u001b[0m\u001b[1;33m(\u001b[0m\u001b[0mastr\u001b[0m\u001b[1;33m)\u001b[0m\u001b[1;33m\u001b[0m\u001b[0m\n",
      "\u001b[0;31mValueError\u001b[0m: invalid literal for int() with base 10: 'Hello Bob'"
     ]
    }
   ],
   "source": [
    "astr = 'Hello Bob'\n",
    "istr = int(astr)\n",
    "print('First', istr)\n",
    "astr = '123'\n",
    "istr = int(astr)\n",
    "print('Second', istr)"
   ]
  },
  {
   "cell_type": "code",
   "execution_count": 60,
   "metadata": {
    "collapsed": false
   },
   "outputs": [
    {
     "name": "stdout",
     "output_type": "stream",
     "text": [
      "-1\n"
     ]
    }
   ],
   "source": [
    "astr = 'Hello Bob'\n",
    "istr = 0\n",
    "try:\n",
    "    istr = int(astr)\n",
    "except:\n",
    "    istr = -1\n",
    "print(istr)"
   ]
  },
  {
   "cell_type": "code",
   "execution_count": 66,
   "metadata": {
    "collapsed": false
   },
   "outputs": [
    {
     "name": "stdout",
     "output_type": "stream",
     "text": [
      "Below 2\n"
     ]
    }
   ],
   "source": [
    "x=-2.0\n",
    "if x < 2 :\n",
    "    print('Below 2')\n",
    "elif x >= 2 :\n",
    "     print('Two or more')\n",
    "else :\n",
    "    print('Something else')"
   ]
  },
  {
   "cell_type": "code",
   "execution_count": null,
   "metadata": {
    "collapsed": true
   },
   "outputs": [],
   "source": []
  },
  {
   "cell_type": "code",
   "execution_count": 6,
   "metadata": {
    "collapsed": false
   },
   "outputs": [
    {
     "name": "stdout",
     "output_type": "stream",
     "text": [
      "Enter Hours:47.5\n",
      "enter hours rate time:45\n",
      "enter rates:10.50\n"
     ]
    },
    {
     "ename": "NameError",
     "evalue": "name 'payt' is not defined",
     "output_type": "error",
     "traceback": [
      "\u001b[0;31m---------------------------------------------------------------------------\u001b[0m",
      "\u001b[0;31mNameError\u001b[0m                                 Traceback (most recent call last)",
      "\u001b[0;32m<ipython-input-6-3efe0730fc01>\u001b[0m in \u001b[0;36m<module>\u001b[0;34m()\u001b[0m\n\u001b[1;32m     17\u001b[0m \u001b[0mhrrate\u001b[0m\u001b[1;33m=\u001b[0m\u001b[0minput\u001b[0m\u001b[1;33m(\u001b[0m\u001b[1;34m\"enter rates:\"\u001b[0m\u001b[1;33m)\u001b[0m\u001b[1;33m\u001b[0m\u001b[0m\n\u001b[1;32m     18\u001b[0m \u001b[0mhrrate\u001b[0m\u001b[1;33m=\u001b[0m\u001b[0mfloat\u001b[0m\u001b[1;33m(\u001b[0m\u001b[0mhrrate\u001b[0m\u001b[1;33m)\u001b[0m\u001b[1;33m\u001b[0m\u001b[0m\n\u001b[0;32m---> 19\u001b[0;31m \u001b[0mcomputepay\u001b[0m\u001b[1;33m(\u001b[0m\u001b[1;34m'r'\u001b[0m\u001b[1;33m,\u001b[0m\u001b[1;34m'h'\u001b[0m\u001b[1;33m)\u001b[0m\u001b[1;33m\u001b[0m\u001b[0m\n\u001b[0m",
      "\u001b[0;32m<ipython-input-6-3efe0730fc01>\u001b[0m in \u001b[0;36mcomputepay\u001b[0;34m(h, r)\u001b[0m\n\u001b[1;32m      1\u001b[0m \u001b[1;32mdef\u001b[0m \u001b[0mcomputepay\u001b[0m\u001b[1;33m(\u001b[0m\u001b[0mh\u001b[0m\u001b[1;33m,\u001b[0m\u001b[0mr\u001b[0m\u001b[1;33m)\u001b[0m\u001b[1;33m:\u001b[0m\u001b[1;33m\u001b[0m\u001b[0m\n\u001b[0;32m----> 2\u001b[0;31m     \u001b[1;32mif\u001b[0m \u001b[0mpayt\u001b[0m \u001b[1;33m==\u001b[0m \u001b[1;34m'h'\u001b[0m \u001b[1;33m:\u001b[0m\u001b[1;33m\u001b[0m\u001b[0m\n\u001b[0m\u001b[1;32m      3\u001b[0m         \u001b[0mpay\u001b[0m\u001b[1;33m=\u001b[0m\u001b[0mhrrate\u001b[0m \u001b[1;33m*\u001b[0m \u001b[0mhrs\u001b[0m\u001b[1;33m\u001b[0m\u001b[0m\n\u001b[1;32m      4\u001b[0m         \u001b[0mpay\u001b[0m\u001b[1;33m=\u001b[0m\u001b[0mfloat\u001b[0m\u001b[1;33m(\u001b[0m\u001b[0mpay\u001b[0m\u001b[1;33m)\u001b[0m\u001b[1;33m\u001b[0m\u001b[0m\n\u001b[1;32m      5\u001b[0m         \u001b[0mpay\u001b[0m\u001b[1;33m=\u001b[0m\u001b[0mstr\u001b[0m\u001b[1;33m(\u001b[0m\u001b[0mpay\u001b[0m\u001b[1;33m)\u001b[0m\u001b[1;33m\u001b[0m\u001b[0m\n",
      "\u001b[0;31mNameError\u001b[0m: name 'payt' is not defined"
     ]
    }
   ],
   "source": [
    "def computepay(h,r):\n",
    "    if payt == 'h' :\n",
    "        pay=hrrate * hrs\n",
    "        pay=float(pay)\n",
    "        pay=str(pay)\n",
    "        print(pay)\n",
    "    elif payt == 'r' :\n",
    "        pay=hrrate * hrs\n",
    "        pay=float(pay)\n",
    "        pay=str(pay)\n",
    "        print( pay)\n",
    "        return 42.37\n",
    "hrs = input(\"Enter Hours:\")\n",
    "hrs= float(hrs)\n",
    "hr1=input(\"enter hours rate time:\")\n",
    "hr1=float(hr1)\n",
    "hrrate=input(\"enter rates:\")\n",
    "hrrate=float(hrrate)\n",
    "computepay('r','h')   "
   ]
  },
  {
   "cell_type": "code",
   "execution_count": 7,
   "metadata": {
    "collapsed": false
   },
   "outputs": [
    {
     "name": "stdout",
     "output_type": "stream",
     "text": [
      "Enter Hours:47.5\n",
      "enter hours rate time:45\n",
      "enter rates:10.50\n",
      "498.75\n"
     ]
    },
    {
     "data": {
      "text/plain": [
       "42.37"
      ]
     },
     "execution_count": 7,
     "metadata": {},
     "output_type": "execute_result"
    }
   ],
   "source": [
    "def computepay(h,r):\n",
    "    if h == 'payt1' :\n",
    "        pay=hrrate * hrs\n",
    "        pay=float(pay)\n",
    "        pay=str(pay)\n",
    "        print(pay)\n",
    "        return 42.37\n",
    "    elif r == 'payt2' :\n",
    "        pay=hrrate * hrs\n",
    "        pay=float(pay)\n",
    "        pay=str(pay)\n",
    "        print( pay)\n",
    "        return 42.37\n",
    "hrs = input(\"Enter Hours:\")\n",
    "hrs= float(hrs)\n",
    "hr1=input(\"enter hours rate time:\")\n",
    "hr1=float(hr1)\n",
    "hrrate=input(\"enter rates:\")\n",
    "hrrate=float(hrrate)\n",
    "computepay('payt1','payt2')   "
   ]
  },
  {
   "cell_type": "code",
   "execution_count": null,
   "metadata": {
    "collapsed": true
   },
   "outputs": [],
   "source": []
  }
 ],
 "metadata": {
  "anaconda-cloud": {},
  "kernelspec": {
   "display_name": "Python [conda env:Anaconda3]",
   "language": "python",
   "name": "conda-env-Anaconda3-py"
  },
  "language_info": {
   "codemirror_mode": {
    "name": "ipython",
    "version": 3
   },
   "file_extension": ".py",
   "mimetype": "text/x-python",
   "name": "python",
   "nbconvert_exporter": "python",
   "pygments_lexer": "ipython3",
   "version": "3.5.6"
  }
 },
 "nbformat": 4,
 "nbformat_minor": 1
}
