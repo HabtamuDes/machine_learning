{
 "cells": [
  {
   "cell_type": "code",
   "execution_count": 1,
   "metadata": {
    "collapsed": false
   },
   "outputs": [
    {
     "name": "stdout",
     "output_type": "stream",
     "text": [
      "Solving environment: ...working... done\n",
      "\n",
      "## Package Plan ##\n",
      "\n",
      "  environment location: C:\\Users\\warcraft\\Anaconda3\n",
      "\n",
      "  added / updated specs: \n",
      "    - xlrd\n",
      "\n",
      "\n",
      "The following packages will be downloaded:\n",
      "\n",
      "    package                    |            build\n",
      "    ---------------------------|-----------------\n",
      "    ca-certificates-2018.12.5  |                0         153 KB  anaconda\n",
      "    xlrd-1.1.0                 |           py35_1         194 KB  anaconda\n",
      "    openssl-1.1.1              |       he774522_0         5.7 MB  anaconda\n",
      "    ------------------------------------------------------------\n",
      "                                           Total:         6.1 MB\n",
      "\n",
      "The following packages will be UPDATED:\n",
      "\n",
      "    ca-certificates: 2018.03.07-0      --> 2018.12.5-0      anaconda\n",
      "    openssl:         1.1.1a-he774522_0 --> 1.1.1-he774522_0 anaconda\n",
      "    xlrd:            1.0.0-py35_0      --> 1.1.0-py35_1     anaconda\n",
      "\n",
      "\n",
      "Downloading and Extracting Packages\n",
      "Preparing transaction: ...working... done\n",
      "Verifying transaction: ...working... done\n",
      "Executing transaction: ...working... done\n"
     ]
    },
    {
     "name": "stderr",
     "output_type": "stream",
     "text": [
      "\n",
      "\n",
      "==> WARNING: A newer version of conda exists. <==\n",
      "  current version: 4.5.11\n",
      "  latest version: 4.5.12\n",
      "\n",
      "Please update conda by running\n",
      "\n",
      "    $ conda update -n base conda\n",
      "\n",
      "\n",
      "\n",
      "ca-certificates-2018 | 153 KB    |            |   0% \n",
      "ca-certificates-2018 | 153 KB    | 7          |   8% \n",
      "ca-certificates-2018 | 153 KB    | #######6   |  76% \n",
      "ca-certificates-2018 | 153 KB    | ########## | 100% \n",
      "\n",
      "xlrd-1.1.0           | 194 KB    |            |   0% \n",
      "xlrd-1.1.0           | 194 KB    | 6          |   6% \n",
      "xlrd-1.1.0           | 194 KB    | #######6   |  76% \n",
      "xlrd-1.1.0           | 194 KB    | ########## | 100% \n",
      "\n",
      "openssl-1.1.1        | 5.7 MB    |            |   0% \n",
      "openssl-1.1.1        | 5.7 MB    |            |   0% \n",
      "openssl-1.1.1        | 5.7 MB    | #4         |  15% \n",
      "openssl-1.1.1        | 5.7 MB    | #9         |  19% \n",
      "openssl-1.1.1        | 5.7 MB    | ###4       |  34% \n",
      "openssl-1.1.1        | 5.7 MB    | ####1      |  42% \n",
      "openssl-1.1.1        | 5.7 MB    | ####7      |  48% \n",
      "openssl-1.1.1        | 5.7 MB    | #######5   |  76% \n",
      "openssl-1.1.1        | 5.7 MB    | ########   |  80% \n",
      "openssl-1.1.1        | 5.7 MB    | ########3  |  84% \n",
      "openssl-1.1.1        | 5.7 MB    | ########6  |  87% \n",
      "openssl-1.1.1        | 5.7 MB    | ########8  |  89% \n",
      "openssl-1.1.1        | 5.7 MB    | #########  |  91% \n",
      "openssl-1.1.1        | 5.7 MB    | #########2 |  92% \n",
      "openssl-1.1.1        | 5.7 MB    | #########4 |  94% \n",
      "openssl-1.1.1        | 5.7 MB    | #########6 |  97% \n",
      "openssl-1.1.1        | 5.7 MB    | #########9 |  99% \n",
      "openssl-1.1.1        | 5.7 MB    | ########## | 100% \n"
     ]
    }
   ],
   "source": [
    "!conda install -c anaconda xlrd --yes\n"
   ]
  },
  {
   "cell_type": "code",
   "execution_count": null,
   "metadata": {
    "collapsed": true
   },
   "outputs": [],
   "source": []
  },
  {
   "cell_type": "code",
   "execution_count": null,
   "metadata": {
    "collapsed": true
   },
   "outputs": [],
   "source": []
  },
  {
   "cell_type": "code",
   "execution_count": null,
   "metadata": {
    "collapsed": true
   },
   "outputs": [],
   "source": [
    "!conda install -c anaconda xlrd --yes"
   ]
  }
 ],
 "metadata": {
  "kernelspec": {
   "display_name": "Python [conda env:Anaconda3]",
   "language": "python",
   "name": "conda-env-Anaconda3-py"
  },
  "language_info": {
   "codemirror_mode": {
    "name": "ipython",
    "version": 3
   },
   "file_extension": ".py",
   "mimetype": "text/x-python",
   "name": "python",
   "nbconvert_exporter": "python",
   "pygments_lexer": "ipython3",
   "version": "3.5.6"
  }
 },
 "nbformat": 4,
 "nbformat_minor": 1
}
