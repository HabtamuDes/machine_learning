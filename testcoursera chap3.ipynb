{
 "cells": [
  {
   "cell_type": "code",
   "execution_count": 7,
   "metadata": {
    "collapsed": false
   },
   "outputs": [
    {
     "name": "stdout",
     "output_type": "stream",
     "text": [
      "Enter Hours:45\n",
      "pay :472.5\n"
     ]
    }
   ],
   "source": [
    "hrs = input(\"Enter Hours:\")\n",
    "hrs= float(hrs)\n",
    "hrrate=1.5\n",
    "hrrate=float(hrrate)\n",
    "hhrate=10.50 \n",
    "hhrate=float(hhrate)\n",
    "if hrs <= 40 :\n",
    "    pay=hrrate * hrs\n",
    "    pay=float(pay)\n",
    "    pay=str(pay)\n",
    "    print(\"pay :\"+ pay)\n",
    "elif hrs >= 45 :\n",
    "    pay=hhrate * hrs\n",
    "    pay=float(pay)\n",
    "    pay=str(pay)\n",
    "    print('pay :'+ pay)"
   ]
  },
  {
   "cell_type": "code",
   "execution_count": null,
   "metadata": {
    "collapsed": true
   },
   "outputs": [],
   "source": []
  },
  {
   "cell_type": "code",
   "execution_count": null,
   "metadata": {
    "collapsed": true
   },
   "outputs": [],
   "source": []
  },
  {
   "cell_type": "code",
   "execution_count": 11,
   "metadata": {
    "collapsed": false
   },
   "outputs": [
    {
     "name": "stdout",
     "output_type": "stream",
     "text": [
      "Enter Hours:47.5\n",
      "enter hours upto 4045\n",
      "enter rates10.50\n",
      "498.75\n"
     ]
    }
   ],
   "source": [
    "hrs = input(\"Enter Hours:\")\n",
    "hrs= float(hrs)\n",
    "hr1=input(\"enter hours rate time:\")\n",
    "\n",
    "hr1=float(hr1)\n",
    "hrrate=input(\"enter rates:\")\n",
    "hrrate=float(hrrate)\n",
    "\n",
    "if hrs <= hr1 :\n",
    "    pay=hrrate * hrs\n",
    "    pay=float(pay)\n",
    "    pay=str(pay)\n",
    "    print( pay)\n",
    "elif hrs >= hr1 :\n",
    "    pay=hrrate * hrs\n",
    "    pay=float(pay)\n",
    "    pay=str(pay)\n",
    "    print( pay)\n",
    "    \n",
    "    \n",
    "    \n",
    "    \n",
    "    \n",
    "  "
   ]
  },
  {
   "cell_type": "code",
   "execution_count": 14,
   "metadata": {
    "collapsed": false
   },
   "outputs": [
    {
     "name": "stdout",
     "output_type": "stream",
     "text": [
      "Enter Score: 0.8\n",
      "B\n"
     ]
    }
   ],
   "source": [
    "score = input(\"Enter Score: \")\n",
    "score=float(score)\n",
    "if score >= 0.9 :\n",
    "    print(\"A\")\n",
    "elif score >= 0.8 :\n",
    "    print(\"B\")\n",
    "elif score >=0.7 :\n",
    "    print(\"C\")\n",
    "elif score >= 0.6 :\n",
    "    print(\"D\")\n",
    "elif score < 0.6 :\n",
    "    print(\"F\")\n"
   ]
  },
  {
   "cell_type": "code",
   "execution_count": null,
   "metadata": {
    "collapsed": true
   },
   "outputs": [],
   "source": []
  }
 ],
 "metadata": {
  "anaconda-cloud": {},
  "kernelspec": {
   "display_name": "Python [conda env:Anaconda3]",
   "language": "python",
   "name": "conda-env-Anaconda3-py"
  },
  "language_info": {
   "codemirror_mode": {
    "name": "ipython",
    "version": 3
   },
   "file_extension": ".py",
   "mimetype": "text/x-python",
   "name": "python",
   "nbconvert_exporter": "python",
   "pygments_lexer": "ipython3",
   "version": "3.5.6"
  }
 },
 "nbformat": 4,
 "nbformat_minor": 1
}
